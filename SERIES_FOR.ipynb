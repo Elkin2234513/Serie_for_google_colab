{
  "nbformat": 4,
  "nbformat_minor": 0,
  "metadata": {
    "colab": {
      "provenance": [],
      "authorship_tag": "ABX9TyNmqHM7p7KSaSuFpdOnpQ9k",
      "include_colab_link": true
    },
    "kernelspec": {
      "name": "python3",
      "display_name": "Python 3"
    },
    "language_info": {
      "name": "python"
    }
  },
  "cells": [
    {
      "cell_type": "markdown",
      "metadata": {
        "id": "view-in-github",
        "colab_type": "text"
      },
      "source": [
        "<a href=\"https://colab.research.google.com/github/Elkin2234513/Serie_for_google_colab/blob/main/SERIES_FOR.ipynb\" target=\"_parent\"><img src=\"https://colab.research.google.com/assets/colab-badge.svg\" alt=\"Open In Colab\"/></a>"
      ]
    },
    {
      "cell_type": "markdown",
      "source": [
        "# Series usando For\n"
      ],
      "metadata": {
        "id": "35rl2HEDF0Kt"
      }
    },
    {
      "cell_type": "code",
      "execution_count": null,
      "metadata": {
        "id": "MSCwN7LyDyyo"
      },
      "outputs": [],
      "source": [
        "# serie 1: 1 ,2, 3, 4, 5, 6, 7, 8, 9, 10\n",
        "\n",
        "print(\"------------------\")\n",
        "print(\"------serie 1-----\")\n",
        "print(\"------------------\")\n",
        "\n",
        "s = \"serie: \"\n",
        "for i in range(1,11):\n",
        "  s = s + str (i) + \", \"\n",
        "print(s)"
      ]
    }
  ]
}