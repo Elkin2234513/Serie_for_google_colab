{
  "nbformat": 4,
  "nbformat_minor": 0,
  "metadata": {
    "colab": {
      "provenance": [],
      "authorship_tag": "ABX9TyMQ64UlTBTZ5mOrBX+luzsf",
      "include_colab_link": true
    },
    "kernelspec": {
      "name": "python3",
      "display_name": "Python 3"
    },
    "language_info": {
      "name": "python"
    }
  },
  "cells": [
    {
      "cell_type": "markdown",
      "metadata": {
        "id": "view-in-github",
        "colab_type": "text"
      },
      "source": [
        "<a href=\"https://colab.research.google.com/github/Elkin2234513/Serie_for_google_colab/blob/main/SERIES_FOR.ipynb\" target=\"_parent\"><img src=\"https://colab.research.google.com/assets/colab-badge.svg\" alt=\"Open In Colab\"/></a>"
      ]
    },
    {
      "cell_type": "markdown",
      "source": [
        "# Series usando For\n"
      ],
      "metadata": {
        "id": "35rl2HEDF0Kt"
      }
    },
    {
      "cell_type": "code",
      "execution_count": null,
      "metadata": {
        "id": "MSCwN7LyDyyo"
      },
      "outputs": [],
      "source": [
        "# serie 1: 1 ,2, 3, 4, 5, 6, 7, 8, 9, 10\n",
        "\n",
        "print(\"------------------\")\n",
        "print(\"------serie 1-----\")\n",
        "print(\"------------------\")\n",
        "\n",
        "s = \"serie: \"\n",
        "for i in range(1,11):\n",
        "  s = s + str (i) + \", \"\n",
        "print(s)"
      ]
    },
    {
      "cell_type": "code",
      "source": [
        "# serie 2: 1, 4, 9, 16, 25, 36, 49, 64, 81, 100\n",
        "\n",
        "print(\"------------------\")\n",
        "print(\"------serie 2-----\")\n",
        "print(\"------------------\")\n",
        "\n",
        "s = \"serie: {\"\n",
        "for i in range(1,11):\n",
        "  if i != 10:                         #ese if es para quitar la coma final\n",
        "    s = s + str (i**2) + \", \"\n",
        "  else:\n",
        "    s = s + str(i ** 2)\n",
        "s = s + \"}\"\n",
        "print(s)\n"
      ],
      "metadata": {
        "id": "s1az28F5I3t8"
      },
      "execution_count": null,
      "outputs": []
    },
    {
      "cell_type": "code",
      "source": [
        "# serie 3: 2, 4, 8, 16, 32, 64......\n",
        "\n",
        "print(\"------------------\")\n",
        "print(\"------serie 3-----\")\n",
        "print(\"------------------\")\n",
        "\n",
        "s = \"serie: {\"\n",
        "for i in range(1,11,):\n",
        "  if i != 10:                         \n",
        "    s = s + str (2**i) + \", \"\n",
        "  else:\n",
        "    s = s + str(2**i)\n",
        "s = s + \"}\"\n",
        "print(s)\n"
      ],
      "metadata": {
        "id": "RkuyDjFbNFU4"
      },
      "execution_count": null,
      "outputs": []
    },
    {
      "cell_type": "code",
      "source": [
        "# serie 4: 2, 6, 12, 20, 30, 42, 56 ...\n",
        "\n",
        "print(\"------------------\")\n",
        "print(\"------serie 4-----\")\n",
        "print(\"------------------\")\n",
        "\n",
        "s = \"serie: {\"\n",
        "for i in range(1,11):\n",
        "  if i != 10:                         \n",
        "    s = s + str (i**2+i) + \", \"\n",
        "  else:\n",
        "    s = s + str(i**2+i)\n",
        "s = s + \"}\"\n",
        "print(s) "
      ],
      "metadata": {
        "id": "d0ITfCIRPmPy"
      },
      "execution_count": null,
      "outputs": []
    }
  ]
}